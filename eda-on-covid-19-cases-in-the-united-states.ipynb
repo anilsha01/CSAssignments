{
 "cells": [
  {
   "cell_type": "markdown",
   "id": "c3dd6849",
   "metadata": {
    "papermill": {
     "duration": 0.004433,
     "end_time": "2024-02-10T00:19:42.406721",
     "exception": false,
     "start_time": "2024-02-10T00:19:42.402288",
     "status": "completed"
    },
    "tags": []
   },
   "source": [
    "In this notebook, we are going to explore COVID-19 cases in the United States by state."
   ]
  },
  {
   "cell_type": "markdown",
   "id": "1fe9a21c",
   "metadata": {
    "papermill": {
     "duration": 0.004204,
     "end_time": "2024-02-10T00:19:42.415113",
     "exception": false,
     "start_time": "2024-02-10T00:19:42.410909",
     "status": "completed"
    },
    "tags": []
   },
   "source": [
    "Import the necessary modules."
   ]
  },
  {
   "cell_type": "code",
   "execution_count": 1,
   "id": "66d7d8bb",
   "metadata": {
    "_cell_guid": "b1076dfc-b9ad-4769-8c92-a6c4dae69d19",
    "_uuid": "8f2839f25d086af736a60e9eeb907d3b93b6e0e5",
    "execution": {
     "iopub.execute_input": "2024-02-10T00:19:42.425523Z",
     "iopub.status.busy": "2024-02-10T00:19:42.425055Z",
     "iopub.status.idle": "2024-02-10T00:19:44.904762Z",
     "shell.execute_reply": "2024-02-10T00:19:44.903743Z"
    },
    "papermill": {
     "duration": 2.487879,
     "end_time": "2024-02-10T00:19:44.907369",
     "exception": false,
     "start_time": "2024-02-10T00:19:42.419490",
     "status": "completed"
    },
    "tags": []
   },
   "outputs": [
    {
     "name": "stdout",
     "output_type": "stream",
     "text": [
      "Setup complete.\n"
     ]
    }
   ],
   "source": [
    "import numpy as np\n",
    "import pandas as pd\n",
    "import matplotlib.pyplot as plt\n",
    "import seaborn as sns\n",
    "\n",
    "print(\"Setup complete.\")"
   ]
  },
  {
   "cell_type": "markdown",
   "id": "3010e974",
   "metadata": {
    "papermill": {
     "duration": 0.003689,
     "end_time": "2024-02-10T00:19:44.915186",
     "exception": false,
     "start_time": "2024-02-10T00:19:44.911497",
     "status": "completed"
    },
    "tags": []
   },
   "source": [
    "Load the dataset to begin analysis."
   ]
  },
  {
   "cell_type": "code",
   "execution_count": 2,
   "id": "61d55c4f",
   "metadata": {
    "execution": {
     "iopub.execute_input": "2024-02-10T00:19:44.925805Z",
     "iopub.status.busy": "2024-02-10T00:19:44.924745Z",
     "iopub.status.idle": "2024-02-10T00:19:45.156804Z",
     "shell.execute_reply": "2024-02-10T00:19:45.155577Z"
    },
    "papermill": {
     "duration": 0.240496,
     "end_time": "2024-02-10T00:19:45.159776",
     "exception": false,
     "start_time": "2024-02-10T00:19:44.919280",
     "status": "completed"
    },
    "tags": []
   },
   "outputs": [],
   "source": [
    "us_states_df = pd.read_csv(\"/kaggle/input/covid19-in-usa/us_states_covid19_daily.csv\")"
   ]
  },
  {
   "cell_type": "markdown",
   "id": "c23c5aa4",
   "metadata": {
    "papermill": {
     "duration": 0.003675,
     "end_time": "2024-02-10T00:19:45.167640",
     "exception": false,
     "start_time": "2024-02-10T00:19:45.163965",
     "status": "completed"
    },
    "tags": []
   },
   "source": [
    "Use the .head() attribute to preview the first few rows of the DataFrame."
   ]
  },
  {
   "cell_type": "code",
   "execution_count": 3,
   "id": "e7b9116b",
   "metadata": {
    "execution": {
     "iopub.execute_input": "2024-02-10T00:19:45.178449Z",
     "iopub.status.busy": "2024-02-10T00:19:45.177351Z",
     "iopub.status.idle": "2024-02-10T00:19:45.218978Z",
     "shell.execute_reply": "2024-02-10T00:19:45.217704Z"
    },
    "papermill": {
     "duration": 0.050146,
     "end_time": "2024-02-10T00:19:45.221864",
     "exception": false,
     "start_time": "2024-02-10T00:19:45.171718",
     "status": "completed"
    },
    "tags": []
   },
   "outputs": [
    {
     "data": {
      "text/html": [
       "<div>\n",
       "<style scoped>\n",
       "    .dataframe tbody tr th:only-of-type {\n",
       "        vertical-align: middle;\n",
       "    }\n",
       "\n",
       "    .dataframe tbody tr th {\n",
       "        vertical-align: top;\n",
       "    }\n",
       "\n",
       "    .dataframe thead th {\n",
       "        text-align: right;\n",
       "    }\n",
       "</style>\n",
       "<table border=\"1\" class=\"dataframe\">\n",
       "  <thead>\n",
       "    <tr style=\"text-align: right;\">\n",
       "      <th></th>\n",
       "      <th>date</th>\n",
       "      <th>state</th>\n",
       "      <th>positive</th>\n",
       "      <th>probableCases</th>\n",
       "      <th>negative</th>\n",
       "      <th>pending</th>\n",
       "      <th>totalTestResultsSource</th>\n",
       "      <th>totalTestResults</th>\n",
       "      <th>hospitalizedCurrently</th>\n",
       "      <th>hospitalizedCumulative</th>\n",
       "      <th>...</th>\n",
       "      <th>posNeg</th>\n",
       "      <th>deathIncrease</th>\n",
       "      <th>hospitalizedIncrease</th>\n",
       "      <th>hash</th>\n",
       "      <th>commercialScore</th>\n",
       "      <th>negativeRegularScore</th>\n",
       "      <th>negativeScore</th>\n",
       "      <th>positiveScore</th>\n",
       "      <th>score</th>\n",
       "      <th>grade</th>\n",
       "    </tr>\n",
       "  </thead>\n",
       "  <tbody>\n",
       "    <tr>\n",
       "      <th>0</th>\n",
       "      <td>20201206</td>\n",
       "      <td>AK</td>\n",
       "      <td>35720.0</td>\n",
       "      <td>NaN</td>\n",
       "      <td>1042056.0</td>\n",
       "      <td>NaN</td>\n",
       "      <td>totalTestsViral</td>\n",
       "      <td>1077776.0</td>\n",
       "      <td>164.0</td>\n",
       "      <td>799.0</td>\n",
       "      <td>...</td>\n",
       "      <td>1077776</td>\n",
       "      <td>0</td>\n",
       "      <td>0</td>\n",
       "      <td>7b1d31e2756687bb9259b29195f1db6cdb321ea6</td>\n",
       "      <td>0</td>\n",
       "      <td>0</td>\n",
       "      <td>0</td>\n",
       "      <td>0</td>\n",
       "      <td>0</td>\n",
       "      <td>NaN</td>\n",
       "    </tr>\n",
       "    <tr>\n",
       "      <th>1</th>\n",
       "      <td>20201206</td>\n",
       "      <td>AL</td>\n",
       "      <td>269877.0</td>\n",
       "      <td>45962.0</td>\n",
       "      <td>1421126.0</td>\n",
       "      <td>NaN</td>\n",
       "      <td>totalTestsPeopleViral</td>\n",
       "      <td>1645041.0</td>\n",
       "      <td>1927.0</td>\n",
       "      <td>26331.0</td>\n",
       "      <td>...</td>\n",
       "      <td>1691003</td>\n",
       "      <td>12</td>\n",
       "      <td>0</td>\n",
       "      <td>19454ed8fe28fc0a7948fc0771b2f3c846c1c92e</td>\n",
       "      <td>0</td>\n",
       "      <td>0</td>\n",
       "      <td>0</td>\n",
       "      <td>0</td>\n",
       "      <td>0</td>\n",
       "      <td>NaN</td>\n",
       "    </tr>\n",
       "    <tr>\n",
       "      <th>2</th>\n",
       "      <td>20201206</td>\n",
       "      <td>AR</td>\n",
       "      <td>170924.0</td>\n",
       "      <td>22753.0</td>\n",
       "      <td>1614979.0</td>\n",
       "      <td>NaN</td>\n",
       "      <td>totalTestsViral</td>\n",
       "      <td>1763150.0</td>\n",
       "      <td>1076.0</td>\n",
       "      <td>9401.0</td>\n",
       "      <td>...</td>\n",
       "      <td>1785903</td>\n",
       "      <td>40</td>\n",
       "      <td>21</td>\n",
       "      <td>25fc83bffff5b32ba1a737be8e087fad9f4fde33</td>\n",
       "      <td>0</td>\n",
       "      <td>0</td>\n",
       "      <td>0</td>\n",
       "      <td>0</td>\n",
       "      <td>0</td>\n",
       "      <td>NaN</td>\n",
       "    </tr>\n",
       "    <tr>\n",
       "      <th>3</th>\n",
       "      <td>20201206</td>\n",
       "      <td>AS</td>\n",
       "      <td>0.0</td>\n",
       "      <td>NaN</td>\n",
       "      <td>2140.0</td>\n",
       "      <td>NaN</td>\n",
       "      <td>totalTestsViral</td>\n",
       "      <td>2140.0</td>\n",
       "      <td>NaN</td>\n",
       "      <td>NaN</td>\n",
       "      <td>...</td>\n",
       "      <td>2140</td>\n",
       "      <td>0</td>\n",
       "      <td>0</td>\n",
       "      <td>8c39eec317586b0c34fc2903e6a3891ecb00469e</td>\n",
       "      <td>0</td>\n",
       "      <td>0</td>\n",
       "      <td>0</td>\n",
       "      <td>0</td>\n",
       "      <td>0</td>\n",
       "      <td>NaN</td>\n",
       "    </tr>\n",
       "    <tr>\n",
       "      <th>4</th>\n",
       "      <td>20201206</td>\n",
       "      <td>AZ</td>\n",
       "      <td>364276.0</td>\n",
       "      <td>12590.0</td>\n",
       "      <td>2018813.0</td>\n",
       "      <td>NaN</td>\n",
       "      <td>totalTestsPeopleViral</td>\n",
       "      <td>2370499.0</td>\n",
       "      <td>2977.0</td>\n",
       "      <td>28248.0</td>\n",
       "      <td>...</td>\n",
       "      <td>2383089</td>\n",
       "      <td>25</td>\n",
       "      <td>242</td>\n",
       "      <td>7cf59da9e4bc31d905e179211313d08879880a85</td>\n",
       "      <td>0</td>\n",
       "      <td>0</td>\n",
       "      <td>0</td>\n",
       "      <td>0</td>\n",
       "      <td>0</td>\n",
       "      <td>NaN</td>\n",
       "    </tr>\n",
       "  </tbody>\n",
       "</table>\n",
       "<p>5 rows × 55 columns</p>\n",
       "</div>"
      ],
      "text/plain": [
       "       date state  positive  probableCases   negative  pending  \\\n",
       "0  20201206    AK   35720.0            NaN  1042056.0      NaN   \n",
       "1  20201206    AL  269877.0        45962.0  1421126.0      NaN   \n",
       "2  20201206    AR  170924.0        22753.0  1614979.0      NaN   \n",
       "3  20201206    AS       0.0            NaN     2140.0      NaN   \n",
       "4  20201206    AZ  364276.0        12590.0  2018813.0      NaN   \n",
       "\n",
       "  totalTestResultsSource  totalTestResults  hospitalizedCurrently  \\\n",
       "0        totalTestsViral         1077776.0                  164.0   \n",
       "1  totalTestsPeopleViral         1645041.0                 1927.0   \n",
       "2        totalTestsViral         1763150.0                 1076.0   \n",
       "3        totalTestsViral            2140.0                    NaN   \n",
       "4  totalTestsPeopleViral         2370499.0                 2977.0   \n",
       "\n",
       "   hospitalizedCumulative  ...   posNeg  deathIncrease  hospitalizedIncrease  \\\n",
       "0                   799.0  ...  1077776              0                     0   \n",
       "1                 26331.0  ...  1691003             12                     0   \n",
       "2                  9401.0  ...  1785903             40                    21   \n",
       "3                     NaN  ...     2140              0                     0   \n",
       "4                 28248.0  ...  2383089             25                   242   \n",
       "\n",
       "                                       hash  commercialScore  \\\n",
       "0  7b1d31e2756687bb9259b29195f1db6cdb321ea6                0   \n",
       "1  19454ed8fe28fc0a7948fc0771b2f3c846c1c92e                0   \n",
       "2  25fc83bffff5b32ba1a737be8e087fad9f4fde33                0   \n",
       "3  8c39eec317586b0c34fc2903e6a3891ecb00469e                0   \n",
       "4  7cf59da9e4bc31d905e179211313d08879880a85                0   \n",
       "\n",
       "  negativeRegularScore negativeScore positiveScore score  grade  \n",
       "0                    0             0             0     0    NaN  \n",
       "1                    0             0             0     0    NaN  \n",
       "2                    0             0             0     0    NaN  \n",
       "3                    0             0             0     0    NaN  \n",
       "4                    0             0             0     0    NaN  \n",
       "\n",
       "[5 rows x 55 columns]"
      ]
     },
     "execution_count": 3,
     "metadata": {},
     "output_type": "execute_result"
    }
   ],
   "source": [
    "us_states_df.head()"
   ]
  },
  {
   "cell_type": "markdown",
   "id": "91ab686e",
   "metadata": {
    "papermill": {
     "duration": 0.004358,
     "end_time": "2024-02-10T00:19:45.231090",
     "exception": false,
     "start_time": "2024-02-10T00:19:45.226732",
     "status": "completed"
    },
    "tags": []
   },
   "source": [
    "We first need inspect the dataset and identify the data types of the variables. Pandas automatically determines variables data types, but sometimes is incorrect. We use the **.info()** method to quickly inspect the statistics for each column, including the data type and number of entries."
   ]
  },
  {
   "cell_type": "code",
   "execution_count": 4,
   "id": "052bf737",
   "metadata": {
    "execution": {
     "iopub.execute_input": "2024-02-10T00:19:45.242031Z",
     "iopub.status.busy": "2024-02-10T00:19:45.241584Z",
     "iopub.status.idle": "2024-02-10T00:19:45.285458Z",
     "shell.execute_reply": "2024-02-10T00:19:45.283488Z"
    },
    "papermill": {
     "duration": 0.052934,
     "end_time": "2024-02-10T00:19:45.288532",
     "exception": false,
     "start_time": "2024-02-10T00:19:45.235598",
     "status": "completed"
    },
    "tags": []
   },
   "outputs": [
    {
     "name": "stdout",
     "output_type": "stream",
     "text": [
      "<class 'pandas.core.frame.DataFrame'>\n",
      "RangeIndex: 15633 entries, 0 to 15632\n",
      "Data columns (total 55 columns):\n",
      " #   Column                       Non-Null Count  Dtype  \n",
      "---  ------                       --------------  -----  \n",
      " 0   date                         15633 non-null  int64  \n",
      " 1   state                        15633 non-null  object \n",
      " 2   positive                     15481 non-null  float64\n",
      " 3   probableCases                5449 non-null   float64\n",
      " 4   negative                     15323 non-null  float64\n",
      " 5   pending                      1684 non-null   float64\n",
      " 6   totalTestResultsSource       15633 non-null  object \n",
      " 7   totalTestResults             15598 non-null  float64\n",
      " 8   hospitalizedCurrently        12516 non-null  float64\n",
      " 9   hospitalizedCumulative       9434 non-null   float64\n",
      " 10  inIcuCurrently               7713 non-null   float64\n",
      " 11  inIcuCumulative              2700 non-null   float64\n",
      " 12  onVentilatorCurrently        6211 non-null   float64\n",
      " 13  onVentilatorCumulative       929 non-null    float64\n",
      " 14  recovered                    11111 non-null  float64\n",
      " 15  dataQualityGrade             14372 non-null  object \n",
      " 16  lastUpdateEt                 15146 non-null  object \n",
      " 17  dateModified                 15146 non-null  object \n",
      " 18  checkTimeEt                  15146 non-null  object \n",
      " 19  death                        14807 non-null  float64\n",
      " 20  hospitalized                 9434 non-null   float64\n",
      " 21  dateChecked                  15146 non-null  object \n",
      " 22  totalTestsViral              9821 non-null   float64\n",
      " 23  positiveTestsViral           5012 non-null   float64\n",
      " 24  negativeTestsViral           3315 non-null   float64\n",
      " 25  positiveCasesViral           12117 non-null  float64\n",
      " 26  deathConfirmed               6850 non-null   float64\n",
      " 27  deathProbable                5104 non-null   float64\n",
      " 28  totalTestEncountersViral     3678 non-null   float64\n",
      " 29  totalTestsPeopleViral        6628 non-null   float64\n",
      " 30  totalTestsAntibody           3017 non-null   float64\n",
      " 31  positiveTestsAntibody        2218 non-null   float64\n",
      " 32  negativeTestsAntibody        995 non-null    float64\n",
      " 33  totalTestsPeopleAntibody     1258 non-null   float64\n",
      " 34  positiveTestsPeopleAntibody  799 non-null    float64\n",
      " 35  negativeTestsPeopleAntibody  768 non-null    float64\n",
      " 36  totalTestsPeopleAntigen      544 non-null    float64\n",
      " 37  positiveTestsPeopleAntigen   411 non-null    float64\n",
      " 38  totalTestsAntigen            1177 non-null   float64\n",
      " 39  positiveTestsAntigen         731 non-null    float64\n",
      " 40  fips                         15633 non-null  int64  \n",
      " 41  positiveIncrease             15633 non-null  int64  \n",
      " 42  negativeIncrease             15633 non-null  int64  \n",
      " 43  total                        15633 non-null  int64  \n",
      " 44  totalTestResultsIncrease     15633 non-null  int64  \n",
      " 45  posNeg                       15633 non-null  int64  \n",
      " 46  deathIncrease                15633 non-null  int64  \n",
      " 47  hospitalizedIncrease         15633 non-null  int64  \n",
      " 48  hash                         15633 non-null  object \n",
      " 49  commercialScore              15633 non-null  int64  \n",
      " 50  negativeRegularScore         15633 non-null  int64  \n",
      " 51  negativeScore                15633 non-null  int64  \n",
      " 52  positiveScore                15633 non-null  int64  \n",
      " 53  score                        15633 non-null  int64  \n",
      " 54  grade                        0 non-null      float64\n",
      "dtypes: float64(33), int64(14), object(8)\n",
      "memory usage: 6.6+ MB\n"
     ]
    }
   ],
   "source": [
    "us_states_df.info()"
   ]
  },
  {
   "cell_type": "markdown",
   "id": "09ec051a",
   "metadata": {
    "papermill": {
     "duration": 0.004391,
     "end_time": "2024-02-10T00:19:45.297711",
     "exception": false,
     "start_time": "2024-02-10T00:19:45.293320",
     "status": "completed"
    },
    "tags": []
   },
   "source": [
    "Using this information, we can tell that there are a total of 15,633 entries in the csv file, each involving COVID-19 results. However, many columns in this DataFrame have incorrect data types, and many are missing significant amounts of data. \n",
    "\n",
    "We will first correct the data types so that every variable has its correct type."
   ]
  }
 ],
 "metadata": {
  "kaggle": {
   "accelerator": "none",
   "dataSources": [
    {
     "datasetId": 555089,
     "sourceId": 1719967,
     "sourceType": "datasetVersion"
    }
   ],
   "dockerImageVersionId": 30646,
   "isGpuEnabled": false,
   "isInternetEnabled": true,
   "language": "python",
   "sourceType": "notebook"
  },
  "kernelspec": {
   "display_name": "Python 3",
   "language": "python",
   "name": "python3"
  },
  "language_info": {
   "codemirror_mode": {
    "name": "ipython",
    "version": 3
   },
   "file_extension": ".py",
   "mimetype": "text/x-python",
   "name": "python",
   "nbconvert_exporter": "python",
   "pygments_lexer": "ipython3",
   "version": "3.10.13"
  },
  "papermill": {
   "default_parameters": {},
   "duration": 7.040514,
   "end_time": "2024-02-10T00:19:45.923872",
   "environment_variables": {},
   "exception": null,
   "input_path": "__notebook__.ipynb",
   "output_path": "__notebook__.ipynb",
   "parameters": {},
   "start_time": "2024-02-10T00:19:38.883358",
   "version": "2.5.0"
  }
 },
 "nbformat": 4,
 "nbformat_minor": 5
}
