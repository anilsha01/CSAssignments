{
 "cells": [
  {
   "cell_type": "markdown",
   "id": "828adb88",
   "metadata": {
    "papermill": {
     "duration": 0.007901,
     "end_time": "2024-02-10T05:32:15.353750",
     "exception": false,
     "start_time": "2024-02-10T05:32:15.345849",
     "status": "completed"
    },
    "tags": []
   },
   "source": [
    "In this notebook, we are going to explore COVID-19 cases in the United States by state."
   ]
  },
  {
   "cell_type": "markdown",
   "id": "45198356",
   "metadata": {
    "papermill": {
     "duration": 0.007142,
     "end_time": "2024-02-10T05:32:15.373443",
     "exception": false,
     "start_time": "2024-02-10T05:32:15.366301",
     "status": "completed"
    },
    "tags": []
   },
   "source": [
    "Import the necessary modules."
   ]
  },
  {
   "cell_type": "code",
   "execution_count": 1,
   "id": "d19beafc",
   "metadata": {
    "_cell_guid": "b1076dfc-b9ad-4769-8c92-a6c4dae69d19",
    "_uuid": "8f2839f25d086af736a60e9eeb907d3b93b6e0e5",
    "execution": {
     "iopub.execute_input": "2024-02-10T05:32:15.391334Z",
     "iopub.status.busy": "2024-02-10T05:32:15.390260Z",
     "iopub.status.idle": "2024-02-10T05:32:17.983518Z",
     "shell.execute_reply": "2024-02-10T05:32:17.981798Z"
    },
    "papermill": {
     "duration": 2.605829,
     "end_time": "2024-02-10T05:32:17.986685",
     "exception": false,
     "start_time": "2024-02-10T05:32:15.380856",
     "status": "completed"
    },
    "tags": []
   },
   "outputs": [
    {
     "name": "stdout",
     "output_type": "stream",
     "text": [
      "Setup complete.\n"
     ]
    }
   ],
   "source": [
    "import numpy as np\n",
    "import pandas as pd\n",
    "import matplotlib.pyplot as plt\n",
    "import seaborn as sns\n",
    "\n",
    "print(\"Setup complete.\")"
   ]
  },
  {
   "cell_type": "markdown",
   "id": "0839687a",
   "metadata": {
    "papermill": {
     "duration": 0.007723,
     "end_time": "2024-02-10T05:32:18.002256",
     "exception": false,
     "start_time": "2024-02-10T05:32:17.994533",
     "status": "completed"
    },
    "tags": []
   },
   "source": [
    "# Inspect and Clean Dataset"
   ]
  },
  {
   "cell_type": "markdown",
   "id": "c2244cf8",
   "metadata": {
    "papermill": {
     "duration": 0.00712,
     "end_time": "2024-02-10T05:32:18.017001",
     "exception": false,
     "start_time": "2024-02-10T05:32:18.009881",
     "status": "completed"
    },
    "tags": []
   },
   "source": [
    "Load the dataset to begin analysis."
   ]
  },
  {
   "cell_type": "code",
   "execution_count": 2,
   "id": "e708f124",
   "metadata": {
    "execution": {
     "iopub.execute_input": "2024-02-10T05:32:18.034683Z",
     "iopub.status.busy": "2024-02-10T05:32:18.033988Z",
     "iopub.status.idle": "2024-02-10T05:32:18.316957Z",
     "shell.execute_reply": "2024-02-10T05:32:18.315561Z"
    },
    "papermill": {
     "duration": 0.295775,
     "end_time": "2024-02-10T05:32:18.320405",
     "exception": false,
     "start_time": "2024-02-10T05:32:18.024630",
     "status": "completed"
    },
    "tags": []
   },
   "outputs": [],
   "source": [
    "us_states_covid19_df = pd.read_csv(\"/kaggle/input/covid19-in-usa/us_states_covid19_daily.csv\")"
   ]
  },
  {
   "cell_type": "markdown",
   "id": "761e5f7e",
   "metadata": {
    "papermill": {
     "duration": 0.007234,
     "end_time": "2024-02-10T05:32:18.335596",
     "exception": false,
     "start_time": "2024-02-10T05:32:18.328362",
     "status": "completed"
    },
    "tags": []
   },
   "source": [
    "Use the .head() attribute to preview the first few rows of the DataFrame."
   ]
  },
  {
   "cell_type": "code",
   "execution_count": 3,
   "id": "b32563a5",
   "metadata": {
    "execution": {
     "iopub.execute_input": "2024-02-10T05:32:18.353116Z",
     "iopub.status.busy": "2024-02-10T05:32:18.352557Z",
     "iopub.status.idle": "2024-02-10T05:32:18.397601Z",
     "shell.execute_reply": "2024-02-10T05:32:18.396393Z"
    },
    "papermill": {
     "duration": 0.058469,
     "end_time": "2024-02-10T05:32:18.401766",
     "exception": false,
     "start_time": "2024-02-10T05:32:18.343297",
     "status": "completed"
    },
    "tags": []
   },
   "outputs": [
    {
     "data": {
      "text/html": [
       "<div>\n",
       "<style scoped>\n",
       "    .dataframe tbody tr th:only-of-type {\n",
       "        vertical-align: middle;\n",
       "    }\n",
       "\n",
       "    .dataframe tbody tr th {\n",
       "        vertical-align: top;\n",
       "    }\n",
       "\n",
       "    .dataframe thead th {\n",
       "        text-align: right;\n",
       "    }\n",
       "</style>\n",
       "<table border=\"1\" class=\"dataframe\">\n",
       "  <thead>\n",
       "    <tr style=\"text-align: right;\">\n",
       "      <th></th>\n",
       "      <th>date</th>\n",
       "      <th>state</th>\n",
       "      <th>positive</th>\n",
       "      <th>probableCases</th>\n",
       "      <th>negative</th>\n",
       "      <th>pending</th>\n",
       "      <th>totalTestResultsSource</th>\n",
       "      <th>totalTestResults</th>\n",
       "      <th>hospitalizedCurrently</th>\n",
       "      <th>hospitalizedCumulative</th>\n",
       "      <th>...</th>\n",
       "      <th>posNeg</th>\n",
       "      <th>deathIncrease</th>\n",
       "      <th>hospitalizedIncrease</th>\n",
       "      <th>hash</th>\n",
       "      <th>commercialScore</th>\n",
       "      <th>negativeRegularScore</th>\n",
       "      <th>negativeScore</th>\n",
       "      <th>positiveScore</th>\n",
       "      <th>score</th>\n",
       "      <th>grade</th>\n",
       "    </tr>\n",
       "  </thead>\n",
       "  <tbody>\n",
       "    <tr>\n",
       "      <th>0</th>\n",
       "      <td>20201206</td>\n",
       "      <td>AK</td>\n",
       "      <td>35720.0</td>\n",
       "      <td>NaN</td>\n",
       "      <td>1042056.0</td>\n",
       "      <td>NaN</td>\n",
       "      <td>totalTestsViral</td>\n",
       "      <td>1077776.0</td>\n",
       "      <td>164.0</td>\n",
       "      <td>799.0</td>\n",
       "      <td>...</td>\n",
       "      <td>1077776</td>\n",
       "      <td>0</td>\n",
       "      <td>0</td>\n",
       "      <td>7b1d31e2756687bb9259b29195f1db6cdb321ea6</td>\n",
       "      <td>0</td>\n",
       "      <td>0</td>\n",
       "      <td>0</td>\n",
       "      <td>0</td>\n",
       "      <td>0</td>\n",
       "      <td>NaN</td>\n",
       "    </tr>\n",
       "    <tr>\n",
       "      <th>1</th>\n",
       "      <td>20201206</td>\n",
       "      <td>AL</td>\n",
       "      <td>269877.0</td>\n",
       "      <td>45962.0</td>\n",
       "      <td>1421126.0</td>\n",
       "      <td>NaN</td>\n",
       "      <td>totalTestsPeopleViral</td>\n",
       "      <td>1645041.0</td>\n",
       "      <td>1927.0</td>\n",
       "      <td>26331.0</td>\n",
       "      <td>...</td>\n",
       "      <td>1691003</td>\n",
       "      <td>12</td>\n",
       "      <td>0</td>\n",
       "      <td>19454ed8fe28fc0a7948fc0771b2f3c846c1c92e</td>\n",
       "      <td>0</td>\n",
       "      <td>0</td>\n",
       "      <td>0</td>\n",
       "      <td>0</td>\n",
       "      <td>0</td>\n",
       "      <td>NaN</td>\n",
       "    </tr>\n",
       "    <tr>\n",
       "      <th>2</th>\n",
       "      <td>20201206</td>\n",
       "      <td>AR</td>\n",
       "      <td>170924.0</td>\n",
       "      <td>22753.0</td>\n",
       "      <td>1614979.0</td>\n",
       "      <td>NaN</td>\n",
       "      <td>totalTestsViral</td>\n",
       "      <td>1763150.0</td>\n",
       "      <td>1076.0</td>\n",
       "      <td>9401.0</td>\n",
       "      <td>...</td>\n",
       "      <td>1785903</td>\n",
       "      <td>40</td>\n",
       "      <td>21</td>\n",
       "      <td>25fc83bffff5b32ba1a737be8e087fad9f4fde33</td>\n",
       "      <td>0</td>\n",
       "      <td>0</td>\n",
       "      <td>0</td>\n",
       "      <td>0</td>\n",
       "      <td>0</td>\n",
       "      <td>NaN</td>\n",
       "    </tr>\n",
       "    <tr>\n",
       "      <th>3</th>\n",
       "      <td>20201206</td>\n",
       "      <td>AS</td>\n",
       "      <td>0.0</td>\n",
       "      <td>NaN</td>\n",
       "      <td>2140.0</td>\n",
       "      <td>NaN</td>\n",
       "      <td>totalTestsViral</td>\n",
       "      <td>2140.0</td>\n",
       "      <td>NaN</td>\n",
       "      <td>NaN</td>\n",
       "      <td>...</td>\n",
       "      <td>2140</td>\n",
       "      <td>0</td>\n",
       "      <td>0</td>\n",
       "      <td>8c39eec317586b0c34fc2903e6a3891ecb00469e</td>\n",
       "      <td>0</td>\n",
       "      <td>0</td>\n",
       "      <td>0</td>\n",
       "      <td>0</td>\n",
       "      <td>0</td>\n",
       "      <td>NaN</td>\n",
       "    </tr>\n",
       "    <tr>\n",
       "      <th>4</th>\n",
       "      <td>20201206</td>\n",
       "      <td>AZ</td>\n",
       "      <td>364276.0</td>\n",
       "      <td>12590.0</td>\n",
       "      <td>2018813.0</td>\n",
       "      <td>NaN</td>\n",
       "      <td>totalTestsPeopleViral</td>\n",
       "      <td>2370499.0</td>\n",
       "      <td>2977.0</td>\n",
       "      <td>28248.0</td>\n",
       "      <td>...</td>\n",
       "      <td>2383089</td>\n",
       "      <td>25</td>\n",
       "      <td>242</td>\n",
       "      <td>7cf59da9e4bc31d905e179211313d08879880a85</td>\n",
       "      <td>0</td>\n",
       "      <td>0</td>\n",
       "      <td>0</td>\n",
       "      <td>0</td>\n",
       "      <td>0</td>\n",
       "      <td>NaN</td>\n",
       "    </tr>\n",
       "  </tbody>\n",
       "</table>\n",
       "<p>5 rows × 55 columns</p>\n",
       "</div>"
      ],
      "text/plain": [
       "       date state  positive  probableCases   negative  pending  \\\n",
       "0  20201206    AK   35720.0            NaN  1042056.0      NaN   \n",
       "1  20201206    AL  269877.0        45962.0  1421126.0      NaN   \n",
       "2  20201206    AR  170924.0        22753.0  1614979.0      NaN   \n",
       "3  20201206    AS       0.0            NaN     2140.0      NaN   \n",
       "4  20201206    AZ  364276.0        12590.0  2018813.0      NaN   \n",
       "\n",
       "  totalTestResultsSource  totalTestResults  hospitalizedCurrently  \\\n",
       "0        totalTestsViral         1077776.0                  164.0   \n",
       "1  totalTestsPeopleViral         1645041.0                 1927.0   \n",
       "2        totalTestsViral         1763150.0                 1076.0   \n",
       "3        totalTestsViral            2140.0                    NaN   \n",
       "4  totalTestsPeopleViral         2370499.0                 2977.0   \n",
       "\n",
       "   hospitalizedCumulative  ...   posNeg  deathIncrease  hospitalizedIncrease  \\\n",
       "0                   799.0  ...  1077776              0                     0   \n",
       "1                 26331.0  ...  1691003             12                     0   \n",
       "2                  9401.0  ...  1785903             40                    21   \n",
       "3                     NaN  ...     2140              0                     0   \n",
       "4                 28248.0  ...  2383089             25                   242   \n",
       "\n",
       "                                       hash  commercialScore  \\\n",
       "0  7b1d31e2756687bb9259b29195f1db6cdb321ea6                0   \n",
       "1  19454ed8fe28fc0a7948fc0771b2f3c846c1c92e                0   \n",
       "2  25fc83bffff5b32ba1a737be8e087fad9f4fde33                0   \n",
       "3  8c39eec317586b0c34fc2903e6a3891ecb00469e                0   \n",
       "4  7cf59da9e4bc31d905e179211313d08879880a85                0   \n",
       "\n",
       "  negativeRegularScore negativeScore positiveScore score  grade  \n",
       "0                    0             0             0     0    NaN  \n",
       "1                    0             0             0     0    NaN  \n",
       "2                    0             0             0     0    NaN  \n",
       "3                    0             0             0     0    NaN  \n",
       "4                    0             0             0     0    NaN  \n",
       "\n",
       "[5 rows x 55 columns]"
      ]
     },
     "execution_count": 3,
     "metadata": {},
     "output_type": "execute_result"
    }
   ],
   "source": [
    "us_states_covid19_df.head()"
   ]
  },
  {
   "cell_type": "markdown",
   "id": "4cbe57f6",
   "metadata": {
    "papermill": {
     "duration": 0.007708,
     "end_time": "2024-02-10T05:32:18.418148",
     "exception": false,
     "start_time": "2024-02-10T05:32:18.410440",
     "status": "completed"
    },
    "tags": []
   },
   "source": [
    "We first need inspect the dataset and identify the data types of the variables. Pandas automatically determines variables data types, but sometimes is incorrect. We use the **.info()** method to quickly inspect the statistics for each column, including the data type and number of entries."
   ]
  },
  {
   "cell_type": "code",
   "execution_count": 4,
   "id": "d9120bce",
   "metadata": {
    "execution": {
     "iopub.execute_input": "2024-02-10T05:32:18.436175Z",
     "iopub.status.busy": "2024-02-10T05:32:18.435721Z",
     "iopub.status.idle": "2024-02-10T05:32:18.481739Z",
     "shell.execute_reply": "2024-02-10T05:32:18.480054Z"
    },
    "papermill": {
     "duration": 0.059053,
     "end_time": "2024-02-10T05:32:18.485160",
     "exception": false,
     "start_time": "2024-02-10T05:32:18.426107",
     "status": "completed"
    },
    "tags": []
   },
   "outputs": [
    {
     "name": "stdout",
     "output_type": "stream",
     "text": [
      "<class 'pandas.core.frame.DataFrame'>\n",
      "RangeIndex: 15633 entries, 0 to 15632\n",
      "Data columns (total 55 columns):\n",
      " #   Column                       Non-Null Count  Dtype  \n",
      "---  ------                       --------------  -----  \n",
      " 0   date                         15633 non-null  int64  \n",
      " 1   state                        15633 non-null  object \n",
      " 2   positive                     15481 non-null  float64\n",
      " 3   probableCases                5449 non-null   float64\n",
      " 4   negative                     15323 non-null  float64\n",
      " 5   pending                      1684 non-null   float64\n",
      " 6   totalTestResultsSource       15633 non-null  object \n",
      " 7   totalTestResults             15598 non-null  float64\n",
      " 8   hospitalizedCurrently        12516 non-null  float64\n",
      " 9   hospitalizedCumulative       9434 non-null   float64\n",
      " 10  inIcuCurrently               7713 non-null   float64\n",
      " 11  inIcuCumulative              2700 non-null   float64\n",
      " 12  onVentilatorCurrently        6211 non-null   float64\n",
      " 13  onVentilatorCumulative       929 non-null    float64\n",
      " 14  recovered                    11111 non-null  float64\n",
      " 15  dataQualityGrade             14372 non-null  object \n",
      " 16  lastUpdateEt                 15146 non-null  object \n",
      " 17  dateModified                 15146 non-null  object \n",
      " 18  checkTimeEt                  15146 non-null  object \n",
      " 19  death                        14807 non-null  float64\n",
      " 20  hospitalized                 9434 non-null   float64\n",
      " 21  dateChecked                  15146 non-null  object \n",
      " 22  totalTestsViral              9821 non-null   float64\n",
      " 23  positiveTestsViral           5012 non-null   float64\n",
      " 24  negativeTestsViral           3315 non-null   float64\n",
      " 25  positiveCasesViral           12117 non-null  float64\n",
      " 26  deathConfirmed               6850 non-null   float64\n",
      " 27  deathProbable                5104 non-null   float64\n",
      " 28  totalTestEncountersViral     3678 non-null   float64\n",
      " 29  totalTestsPeopleViral        6628 non-null   float64\n",
      " 30  totalTestsAntibody           3017 non-null   float64\n",
      " 31  positiveTestsAntibody        2218 non-null   float64\n",
      " 32  negativeTestsAntibody        995 non-null    float64\n",
      " 33  totalTestsPeopleAntibody     1258 non-null   float64\n",
      " 34  positiveTestsPeopleAntibody  799 non-null    float64\n",
      " 35  negativeTestsPeopleAntibody  768 non-null    float64\n",
      " 36  totalTestsPeopleAntigen      544 non-null    float64\n",
      " 37  positiveTestsPeopleAntigen   411 non-null    float64\n",
      " 38  totalTestsAntigen            1177 non-null   float64\n",
      " 39  positiveTestsAntigen         731 non-null    float64\n",
      " 40  fips                         15633 non-null  int64  \n",
      " 41  positiveIncrease             15633 non-null  int64  \n",
      " 42  negativeIncrease             15633 non-null  int64  \n",
      " 43  total                        15633 non-null  int64  \n",
      " 44  totalTestResultsIncrease     15633 non-null  int64  \n",
      " 45  posNeg                       15633 non-null  int64  \n",
      " 46  deathIncrease                15633 non-null  int64  \n",
      " 47  hospitalizedIncrease         15633 non-null  int64  \n",
      " 48  hash                         15633 non-null  object \n",
      " 49  commercialScore              15633 non-null  int64  \n",
      " 50  negativeRegularScore         15633 non-null  int64  \n",
      " 51  negativeScore                15633 non-null  int64  \n",
      " 52  positiveScore                15633 non-null  int64  \n",
      " 53  score                        15633 non-null  int64  \n",
      " 54  grade                        0 non-null      float64\n",
      "dtypes: float64(33), int64(14), object(8)\n",
      "memory usage: 6.6+ MB\n"
     ]
    }
   ],
   "source": [
    "us_states_covid19_df.info()"
   ]
  },
  {
   "cell_type": "markdown",
   "id": "e729e1ec",
   "metadata": {
    "papermill": {
     "duration": 0.007959,
     "end_time": "2024-02-10T05:32:18.502349",
     "exception": false,
     "start_time": "2024-02-10T05:32:18.494390",
     "status": "completed"
    },
    "tags": []
   },
   "source": [
    "Using this information, we can tell that there are a total of 15,633 entries in the csv file, each involving COVID-19 results. However, many columns in this DataFrame have incorrect data types, and many are missing significant amounts of data. \n",
    "\n",
    "We will first drop any columns in the DataFrame that we will not use in the analysis, then correct the data types so that every variable has its correct type."
   ]
  },
  {
   "cell_type": "markdown",
   "id": "6569cb88",
   "metadata": {
    "papermill": {
     "duration": 0.007838,
     "end_time": "2024-02-10T05:32:18.519618",
     "exception": false,
     "start_time": "2024-02-10T05:32:18.511780",
     "status": "completed"
    },
    "tags": []
   },
   "source": [
    "Create a new DataFrame that will hold the variables used for the analysis. Inspect this new dataset."
   ]
  },
  {
   "cell_type": "code",
   "execution_count": 5,
   "id": "0c29c11e",
   "metadata": {
    "execution": {
     "iopub.execute_input": "2024-02-10T05:32:18.538448Z",
     "iopub.status.busy": "2024-02-10T05:32:18.537954Z",
     "iopub.status.idle": "2024-02-10T05:32:18.564953Z",
     "shell.execute_reply": "2024-02-10T05:32:18.563477Z"
    },
    "papermill": {
     "duration": 0.040176,
     "end_time": "2024-02-10T05:32:18.567993",
     "exception": false,
     "start_time": "2024-02-10T05:32:18.527817",
     "status": "completed"
    },
    "tags": []
   },
   "outputs": [
    {
     "data": {
      "text/html": [
       "<div>\n",
       "<style scoped>\n",
       "    .dataframe tbody tr th:only-of-type {\n",
       "        vertical-align: middle;\n",
       "    }\n",
       "\n",
       "    .dataframe tbody tr th {\n",
       "        vertical-align: top;\n",
       "    }\n",
       "\n",
       "    .dataframe thead th {\n",
       "        text-align: right;\n",
       "    }\n",
       "</style>\n",
       "<table border=\"1\" class=\"dataframe\">\n",
       "  <thead>\n",
       "    <tr style=\"text-align: right;\">\n",
       "      <th></th>\n",
       "      <th>date</th>\n",
       "      <th>state</th>\n",
       "      <th>positive</th>\n",
       "      <th>probableCases</th>\n",
       "      <th>negative</th>\n",
       "      <th>totalTestResults</th>\n",
       "      <th>hospitalizedCurrently</th>\n",
       "      <th>inIcuCurrently</th>\n",
       "      <th>onVentilatorCurrently</th>\n",
       "      <th>death</th>\n",
       "      <th>dataQualityGrade</th>\n",
       "    </tr>\n",
       "  </thead>\n",
       "  <tbody>\n",
       "    <tr>\n",
       "      <th>0</th>\n",
       "      <td>20201206</td>\n",
       "      <td>AK</td>\n",
       "      <td>35720.0</td>\n",
       "      <td>NaN</td>\n",
       "      <td>1042056.0</td>\n",
       "      <td>1077776.0</td>\n",
       "      <td>164.0</td>\n",
       "      <td>NaN</td>\n",
       "      <td>21.0</td>\n",
       "      <td>143.0</td>\n",
       "      <td>A</td>\n",
       "    </tr>\n",
       "    <tr>\n",
       "      <th>1</th>\n",
       "      <td>20201206</td>\n",
       "      <td>AL</td>\n",
       "      <td>269877.0</td>\n",
       "      <td>45962.0</td>\n",
       "      <td>1421126.0</td>\n",
       "      <td>1645041.0</td>\n",
       "      <td>1927.0</td>\n",
       "      <td>NaN</td>\n",
       "      <td>NaN</td>\n",
       "      <td>3889.0</td>\n",
       "      <td>A</td>\n",
       "    </tr>\n",
       "    <tr>\n",
       "      <th>2</th>\n",
       "      <td>20201206</td>\n",
       "      <td>AR</td>\n",
       "      <td>170924.0</td>\n",
       "      <td>22753.0</td>\n",
       "      <td>1614979.0</td>\n",
       "      <td>1763150.0</td>\n",
       "      <td>1076.0</td>\n",
       "      <td>374.0</td>\n",
       "      <td>179.0</td>\n",
       "      <td>2660.0</td>\n",
       "      <td>A+</td>\n",
       "    </tr>\n",
       "    <tr>\n",
       "      <th>3</th>\n",
       "      <td>20201206</td>\n",
       "      <td>AS</td>\n",
       "      <td>0.0</td>\n",
       "      <td>NaN</td>\n",
       "      <td>2140.0</td>\n",
       "      <td>2140.0</td>\n",
       "      <td>NaN</td>\n",
       "      <td>NaN</td>\n",
       "      <td>NaN</td>\n",
       "      <td>0.0</td>\n",
       "      <td>D</td>\n",
       "    </tr>\n",
       "    <tr>\n",
       "      <th>4</th>\n",
       "      <td>20201206</td>\n",
       "      <td>AZ</td>\n",
       "      <td>364276.0</td>\n",
       "      <td>12590.0</td>\n",
       "      <td>2018813.0</td>\n",
       "      <td>2370499.0</td>\n",
       "      <td>2977.0</td>\n",
       "      <td>714.0</td>\n",
       "      <td>462.0</td>\n",
       "      <td>6950.0</td>\n",
       "      <td>A+</td>\n",
       "    </tr>\n",
       "  </tbody>\n",
       "</table>\n",
       "</div>"
      ],
      "text/plain": [
       "       date state  positive  probableCases   negative  totalTestResults  \\\n",
       "0  20201206    AK   35720.0            NaN  1042056.0         1077776.0   \n",
       "1  20201206    AL  269877.0        45962.0  1421126.0         1645041.0   \n",
       "2  20201206    AR  170924.0        22753.0  1614979.0         1763150.0   \n",
       "3  20201206    AS       0.0            NaN     2140.0            2140.0   \n",
       "4  20201206    AZ  364276.0        12590.0  2018813.0         2370499.0   \n",
       "\n",
       "   hospitalizedCurrently  inIcuCurrently  onVentilatorCurrently   death  \\\n",
       "0                  164.0             NaN                   21.0   143.0   \n",
       "1                 1927.0             NaN                    NaN  3889.0   \n",
       "2                 1076.0           374.0                  179.0  2660.0   \n",
       "3                    NaN             NaN                    NaN     0.0   \n",
       "4                 2977.0           714.0                  462.0  6950.0   \n",
       "\n",
       "  dataQualityGrade  \n",
       "0                A  \n",
       "1                A  \n",
       "2               A+  \n",
       "3                D  \n",
       "4               A+  "
      ]
     },
     "execution_count": 5,
     "metadata": {},
     "output_type": "execute_result"
    }
   ],
   "source": [
    "us_states_df = us_states_covid19_df[['date', 'state', 'positive', 'probableCases', 'negative', 'totalTestResults', 'hospitalizedCurrently', 'inIcuCurrently', 'onVentilatorCurrently', 'death', 'dataQualityGrade']].reset_index(drop=True)\n",
    "us_states_df.head()"
   ]
  },
  {
   "cell_type": "code",
   "execution_count": 6,
   "id": "9011e876",
   "metadata": {
    "execution": {
     "iopub.execute_input": "2024-02-10T05:32:18.587599Z",
     "iopub.status.busy": "2024-02-10T05:32:18.587111Z",
     "iopub.status.idle": "2024-02-10T05:32:18.603888Z",
     "shell.execute_reply": "2024-02-10T05:32:18.602847Z"
    },
    "papermill": {
     "duration": 0.030372,
     "end_time": "2024-02-10T05:32:18.606857",
     "exception": false,
     "start_time": "2024-02-10T05:32:18.576485",
     "status": "completed"
    },
    "tags": []
   },
   "outputs": [
    {
     "name": "stdout",
     "output_type": "stream",
     "text": [
      "<class 'pandas.core.frame.DataFrame'>\n",
      "RangeIndex: 15633 entries, 0 to 15632\n",
      "Data columns (total 11 columns):\n",
      " #   Column                 Non-Null Count  Dtype  \n",
      "---  ------                 --------------  -----  \n",
      " 0   date                   15633 non-null  int64  \n",
      " 1   state                  15633 non-null  object \n",
      " 2   positive               15481 non-null  float64\n",
      " 3   probableCases          5449 non-null   float64\n",
      " 4   negative               15323 non-null  float64\n",
      " 5   totalTestResults       15598 non-null  float64\n",
      " 6   hospitalizedCurrently  12516 non-null  float64\n",
      " 7   inIcuCurrently         7713 non-null   float64\n",
      " 8   onVentilatorCurrently  6211 non-null   float64\n",
      " 9   death                  14807 non-null  float64\n",
      " 10  dataQualityGrade       14372 non-null  object \n",
      "dtypes: float64(8), int64(1), object(2)\n",
      "memory usage: 1.3+ MB\n"
     ]
    }
   ],
   "source": [
    "us_states_df.info()"
   ]
  },
  {
   "cell_type": "markdown",
   "id": "b6e3c143",
   "metadata": {
    "papermill": {
     "duration": 0.008429,
     "end_time": "2024-02-10T05:32:18.624255",
     "exception": false,
     "start_time": "2024-02-10T05:32:18.615826",
     "status": "completed"
    },
    "tags": []
   },
   "source": [
    "We want to make sure the quality of the data is up to par. For the analysis, we will use data that has a B- rating or higher. Any rating below this will be discarded. This will make our data cleanup quicker."
   ]
  },
  {
   "cell_type": "code",
   "execution_count": 7,
   "id": "e940af34",
   "metadata": {
    "execution": {
     "iopub.execute_input": "2024-02-10T05:32:18.643898Z",
     "iopub.status.busy": "2024-02-10T05:32:18.643434Z",
     "iopub.status.idle": "2024-02-10T05:32:18.665943Z",
     "shell.execute_reply": "2024-02-10T05:32:18.664513Z"
    },
    "papermill": {
     "duration": 0.03577,
     "end_time": "2024-02-10T05:32:18.668778",
     "exception": false,
     "start_time": "2024-02-10T05:32:18.633008",
     "status": "completed"
    },
    "tags": []
   },
   "outputs": [
    {
     "name": "stdout",
     "output_type": "stream",
     "text": [
      "<class 'pandas.core.frame.DataFrame'>\n",
      "Index: 12674 entries, 0 to 14539\n",
      "Data columns (total 11 columns):\n",
      " #   Column                 Non-Null Count  Dtype  \n",
      "---  ------                 --------------  -----  \n",
      " 0   date                   12674 non-null  int64  \n",
      " 1   state                  12674 non-null  object \n",
      " 2   positive               12674 non-null  float64\n",
      " 3   probableCases          5205 non-null   float64\n",
      " 4   negative               12671 non-null  float64\n",
      " 5   totalTestResults       12674 non-null  float64\n",
      " 6   hospitalizedCurrently  11658 non-null  float64\n",
      " 7   inIcuCurrently         7492 non-null   float64\n",
      " 8   onVentilatorCurrently  6005 non-null   float64\n",
      " 9   death                  12647 non-null  float64\n",
      " 10  dataQualityGrade       12674 non-null  object \n",
      "dtypes: float64(8), int64(1), object(2)\n",
      "memory usage: 1.2+ MB\n"
     ]
    }
   ],
   "source": [
    "#modify the existing DataFrame to only include rows in which the data quality grade is between B- and A+\n",
    "us_states_df = us_states_df[us_states_df.dataQualityGrade.isin(['A+', 'A', 'B', 'B-'])]\n",
    "us_states_df.info()"
   ]
  },
  {
   "cell_type": "markdown",
   "id": "5b729f9e",
   "metadata": {
    "papermill": {
     "duration": 0.008681,
     "end_time": "2024-02-10T05:32:18.686800",
     "exception": false,
     "start_time": "2024-02-10T05:32:18.678119",
     "status": "completed"
    },
    "tags": []
   },
   "source": [
    "We initially had 15,633 COVID-19 entries, but filtered the DataFrame to only include reputable data. We now have 12,674 data entries."
   ]
  },
  {
   "cell_type": "markdown",
   "id": "802b7ab9",
   "metadata": {
    "papermill": {
     "duration": 0.00847,
     "end_time": "2024-02-10T05:32:18.704356",
     "exception": false,
     "start_time": "2024-02-10T05:32:18.695886",
     "status": "completed"
    },
    "tags": []
   },
   "source": [
    "Notice how several columns have missing NaN (Not a Number) values. We will fill each NaN value with 0, as it means the state has not reported a value for these categories. We *must* fill in these NaN values before we convert from a float to an int."
   ]
  },
  {
   "cell_type": "code",
   "execution_count": 8,
   "id": "d2c4b199",
   "metadata": {
    "execution": {
     "iopub.execute_input": "2024-02-10T05:32:18.725447Z",
     "iopub.status.busy": "2024-02-10T05:32:18.724610Z",
     "iopub.status.idle": "2024-02-10T05:32:18.747894Z",
     "shell.execute_reply": "2024-02-10T05:32:18.746474Z"
    },
    "papermill": {
     "duration": 0.037811,
     "end_time": "2024-02-10T05:32:18.751580",
     "exception": false,
     "start_time": "2024-02-10T05:32:18.713769",
     "status": "completed"
    },
    "tags": []
   },
   "outputs": [
    {
     "name": "stdout",
     "output_type": "stream",
     "text": [
      "<class 'pandas.core.frame.DataFrame'>\n",
      "Index: 12674 entries, 0 to 14539\n",
      "Data columns (total 11 columns):\n",
      " #   Column                 Non-Null Count  Dtype  \n",
      "---  ------                 --------------  -----  \n",
      " 0   date                   12674 non-null  int64  \n",
      " 1   state                  12674 non-null  object \n",
      " 2   positive               12674 non-null  float64\n",
      " 3   probableCases          12674 non-null  float64\n",
      " 4   negative               12674 non-null  float64\n",
      " 5   totalTestResults       12674 non-null  float64\n",
      " 6   hospitalizedCurrently  12674 non-null  float64\n",
      " 7   inIcuCurrently         12674 non-null  float64\n",
      " 8   onVentilatorCurrently  12674 non-null  float64\n",
      " 9   death                  12674 non-null  float64\n",
      " 10  dataQualityGrade       12674 non-null  object \n",
      "dtypes: float64(8), int64(1), object(2)\n",
      "memory usage: 1.2+ MB\n"
     ]
    }
   ],
   "source": [
    "us_states_df['positive'] = us_states_df['positive'].fillna(0)\n",
    "us_states_df['probableCases'] = us_states_df['probableCases'].fillna(0)\n",
    "us_states_df['negative'] = us_states_df['negative'].fillna(0)\n",
    "us_states_df['hospitalizedCurrently'] = us_states_df['hospitalizedCurrently'].fillna(0)\n",
    "us_states_df['inIcuCurrently'] = us_states_df['inIcuCurrently'].fillna(0)\n",
    "us_states_df['onVentilatorCurrently'] = us_states_df['onVentilatorCurrently'].fillna(0)\n",
    "us_states_df['death'] = us_states_df['death'].fillna(0)\n",
    "us_states_df.info()"
   ]
  },
  {
   "cell_type": "markdown",
   "id": "aae5ca8a",
   "metadata": {
    "papermill": {
     "duration": 0.009005,
     "end_time": "2024-02-10T05:32:18.769674",
     "exception": false,
     "start_time": "2024-02-10T05:32:18.760669",
     "status": "completed"
    },
    "tags": []
   },
   "source": [
    "Now we can change all the data types. The **date** variable has an int data type, when it should have a datetime data type. Use pd.to_datetime() to change the type.\n",
    "The other variables should be an int data type, as they are all discrete variables."
   ]
  },
  {
   "cell_type": "code",
   "execution_count": 9,
   "id": "379fead4",
   "metadata": {
    "execution": {
     "iopub.execute_input": "2024-02-10T05:32:18.791230Z",
     "iopub.status.busy": "2024-02-10T05:32:18.790343Z",
     "iopub.status.idle": "2024-02-10T05:32:18.819882Z",
     "shell.execute_reply": "2024-02-10T05:32:18.817518Z"
    },
    "papermill": {
     "duration": 0.043669,
     "end_time": "2024-02-10T05:32:18.822840",
     "exception": false,
     "start_time": "2024-02-10T05:32:18.779171",
     "status": "completed"
    },
    "tags": []
   },
   "outputs": [
    {
     "name": "stdout",
     "output_type": "stream",
     "text": [
      "<class 'pandas.core.frame.DataFrame'>\n",
      "Index: 12674 entries, 0 to 14539\n",
      "Data columns (total 11 columns):\n",
      " #   Column                 Non-Null Count  Dtype         \n",
      "---  ------                 --------------  -----         \n",
      " 0   date                   12674 non-null  datetime64[ns]\n",
      " 1   state                  12674 non-null  object        \n",
      " 2   positive               12674 non-null  int64         \n",
      " 3   probableCases          12674 non-null  int64         \n",
      " 4   negative               12674 non-null  int64         \n",
      " 5   totalTestResults       12674 non-null  int64         \n",
      " 6   hospitalizedCurrently  12674 non-null  int64         \n",
      " 7   inIcuCurrently         12674 non-null  int64         \n",
      " 8   onVentilatorCurrently  12674 non-null  int64         \n",
      " 9   death                  12674 non-null  int64         \n",
      " 10  dataQualityGrade       12674 non-null  object        \n",
      "dtypes: datetime64[ns](1), int64(8), object(2)\n",
      "memory usage: 1.2+ MB\n"
     ]
    }
   ],
   "source": [
    "us_states_df['date'] = pd.to_datetime(us_states_df['date'])\n",
    "us_states_df['positive'] = us_states_df['positive'].astype('int64')\n",
    "us_states_df['probableCases'] = us_states_df['probableCases'].astype('int64')\n",
    "us_states_df['negative'] = us_states_df['negative'].astype('int64')\n",
    "us_states_df['totalTestResults'] = us_states_df['totalTestResults'].astype('int64')\n",
    "us_states_df['hospitalizedCurrently'] = us_states_df['hospitalizedCurrently'].astype('int64')\n",
    "us_states_df['inIcuCurrently'] = us_states_df['inIcuCurrently'].astype('int64')\n",
    "us_states_df['onVentilatorCurrently'] = us_states_df['onVentilatorCurrently'].astype('int64')\n",
    "us_states_df['death'] = us_states_df['death'].astype('int64')\n",
    "us_states_df.info()"
   ]
  },
  {
   "cell_type": "markdown",
   "id": "c01851dd",
   "metadata": {
    "papermill": {
     "duration": 0.008725,
     "end_time": "2024-02-10T05:32:18.840734",
     "exception": false,
     "start_time": "2024-02-10T05:32:18.832009",
     "status": "completed"
    },
    "tags": []
   },
   "source": [
    "The DataFrame is now cleaned up and ready for analysis."
   ]
  },
  {
   "cell_type": "markdown",
   "id": "242b760f",
   "metadata": {
    "papermill": {
     "duration": 0.008648,
     "end_time": "2024-02-10T05:32:18.858524",
     "exception": false,
     "start_time": "2024-02-10T05:32:18.849876",
     "status": "completed"
    },
    "tags": []
   },
   "source": [
    "# Exploratory Data Analysis"
   ]
  },
  {
   "cell_type": "markdown",
   "id": "a5d854e6",
   "metadata": {
    "papermill": {
     "duration": 0.008865,
     "end_time": "2024-02-10T05:32:18.876755",
     "exception": false,
     "start_time": "2024-02-10T05:32:18.867890",
     "status": "completed"
    },
    "tags": []
   },
   "source": [
    "Now that we have a clean dataset of COVID-19 statistics, we can begin to ask questions about COVID-19 data throughout the United States. \n",
    "\n",
    "We can answer questions as simple as \"what was the date with the most amount of positive COVID tests?\" to \"are positive test results more prevalent in different regions of the US?\""
   ]
  }
 ],
 "metadata": {
  "kaggle": {
   "accelerator": "none",
   "dataSources": [
    {
     "datasetId": 555089,
     "sourceId": 1719967,
     "sourceType": "datasetVersion"
    }
   ],
   "dockerImageVersionId": 30646,
   "isGpuEnabled": false,
   "isInternetEnabled": true,
   "language": "python",
   "sourceType": "notebook"
  },
  "kernelspec": {
   "display_name": "Python 3",
   "language": "python",
   "name": "python3"
  },
  "language_info": {
   "codemirror_mode": {
    "name": "ipython",
    "version": 3
   },
   "file_extension": ".py",
   "mimetype": "text/x-python",
   "name": "python",
   "nbconvert_exporter": "python",
   "pygments_lexer": "ipython3",
   "version": "3.10.13"
  },
  "papermill": {
   "default_parameters": {},
   "duration": 7.886029,
   "end_time": "2024-02-10T05:32:19.813435",
   "environment_variables": {},
   "exception": null,
   "input_path": "__notebook__.ipynb",
   "output_path": "__notebook__.ipynb",
   "parameters": {},
   "start_time": "2024-02-10T05:32:11.927406",
   "version": "2.5.0"
  }
 },
 "nbformat": 4,
 "nbformat_minor": 5
}
